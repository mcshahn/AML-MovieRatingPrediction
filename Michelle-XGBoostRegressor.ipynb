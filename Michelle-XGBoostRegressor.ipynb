{
 "cells": [
  {
   "cell_type": "code",
   "execution_count": 23,
   "id": "3408b0d9",
   "metadata": {},
   "outputs": [],
   "source": [
    "import pandas as pd\n",
    "import numpy as np\n",
    "from sklearn.model_selection import train_test_split\n",
    "from sklearn.linear_model import LinearRegression\n",
    "from sklearn.metrics import r2_score, f1_score\n",
    "import matplotlib.pyplot as plt\n",
    "from sklearn.tree import DecisionTreeRegressor\n",
    "from sklearn.metrics import mean_squared_error, r2_score\n",
    "from xgboost import XGBRegressor\n",
    "from sklearn.ensemble import RandomForestRegressor\n"
   ]
  },
  {
   "cell_type": "code",
   "execution_count": 2,
   "id": "7cfc735f",
   "metadata": {},
   "outputs": [],
   "source": [
    "ratings_df = pd.read_csv('./title.ratings.tsv.gz', delimiter=\"\\t\")"
   ]
  },
  {
   "cell_type": "code",
   "execution_count": 3,
   "id": "b1400ab4",
   "metadata": {},
   "outputs": [],
   "source": [
    "ratings_df= ratings_df.reset_index()\n",
    "\n",
    "\n"
   ]
  },
  {
   "cell_type": "code",
   "execution_count": 4,
   "id": "73cee430",
   "metadata": {},
   "outputs": [
    {
     "name": "stderr",
     "output_type": "stream",
     "text": [
      "/Users/michelle/opt/anaconda3/lib/python3.9/site-packages/IPython/core/interactiveshell.py:3369: DtypeWarning: Columns (4) have mixed types.Specify dtype option on import or set low_memory=False.\n",
      "  exec(code_obj, self.user_global_ns, self.user_ns)\n"
     ]
    }
   ],
   "source": [
    "basics_df = pd.read_csv('./title.basics.tsv.gz', delimiter=\"\\t\")"
   ]
  },
  {
   "cell_type": "code",
   "execution_count": 5,
   "id": "bf1d6017",
   "metadata": {},
   "outputs": [],
   "source": [
    "basics_df = basics_df.reset_index()"
   ]
  },
  {
   "cell_type": "markdown",
   "id": "9a4f2244",
   "metadata": {},
   "source": [
    "### Data Cleaning and Merging; Genre Handling #1\n"
   ]
  },
  {
   "cell_type": "code",
   "execution_count": 6,
   "id": "7ba3cb4a",
   "metadata": {},
   "outputs": [
    {
     "name": "stderr",
     "output_type": "stream",
     "text": [
      "/var/folders/cq/z8p1mwgs5d79rzdqlq7zct7c0000gp/T/ipykernel_185/1376990445.py:21: FutureWarning: Dropping invalid columns in DataFrameGroupBy.max is deprecated. In a future version, a TypeError will be raised. Before calling .max, select only columns which should be valid for the function.\n",
      "  basics_ratings_movie_oh = basics_ratings_movie_oh.groupby('primaryTitle').max().reset_index()\n"
     ]
    }
   ],
   "source": [
    "#filter only movies out\n",
    "basics_movies_df =  basics_df[basics_df.titleType==\"movie\"]\n",
    "\n",
    "#combine ratings and movie descriptions dataframes\n",
    "basics_ratings_movie_df = basics_movies_df.merge(ratings_df, on='tconst', how='left')\n",
    "\n",
    "#movies always have None for endYear\n",
    "basics_ratings_movie_df=basics_ratings_movie_df.drop(columns=\"endYear\")\n",
    "\n",
    "#drop all null values/rows\n",
    "basics_ratings_movie_df.replace([\"\\\\N\"],np.nan,inplace=True)\n",
    "basics_ratings_movie_df=basics_ratings_movie_df.dropna( )\n",
    "\n",
    "basics_ratings_movie_df=basics_ratings_movie_df.drop(columns=[\"titleType\", \"tconst\"])\n",
    "\n",
    "#preprocessing genres column (list of strings) using one-hot encoding\n",
    "genres=basics_ratings_movie_df[\"genres\"].apply(lambda x: x.split(',')).explode()\n",
    "basics_ratings_movie_oh = pd.concat([basics_ratings_movie_df, pd.get_dummies(genres)], axis=1)\n",
    "\n",
    "#group by primary title (unique)\n",
    "basics_ratings_movie_oh = basics_ratings_movie_oh.groupby('primaryTitle').max().reset_index()\n",
    "\n",
    "#turn each column to numeric\n",
    "basics_ratings_movie_oh[\"startYear\"] = pd.to_numeric(basics_ratings_movie_oh[\"startYear\"])\n",
    "basics_ratings_movie_oh[\"runtimeMinutes\"] = pd.to_numeric(basics_ratings_movie_oh[\"runtimeMinutes\"])"
   ]
  },
  {
   "cell_type": "code",
   "execution_count": 7,
   "id": "d8b8f80a",
   "metadata": {},
   "outputs": [
    {
     "data": {
      "text/plain": [
       "primaryTitle                            #5\n",
       "index_x                            7242706\n",
       "originalTitle                           #5\n",
       "startYear                             2013\n",
       "runtimeMinutes                          68\n",
       "genres            Biography,Comedy,Fantasy\n",
       "index_y                          1008943.0\n",
       "averageRating                          4.8\n",
       "numVotes                              17.0\n",
       "Action                                   0\n",
       "Adult                                    0\n",
       "Adventure                                0\n",
       "Animation                                0\n",
       "Biography                                1\n",
       "Comedy                                   1\n",
       "Crime                                    0\n",
       "Documentary                              0\n",
       "Drama                                    0\n",
       "Family                                   0\n",
       "Fantasy                                  1\n",
       "Film-Noir                                0\n",
       "History                                  0\n",
       "Horror                                   0\n",
       "Music                                    0\n",
       "Musical                                  0\n",
       "Mystery                                  0\n",
       "News                                     0\n",
       "Reality-TV                               0\n",
       "Romance                                  0\n",
       "Sci-Fi                                   0\n",
       "Sport                                    0\n",
       "Talk-Show                                0\n",
       "Thriller                                 0\n",
       "War                                      0\n",
       "Western                                  0\n",
       "Name: 3, dtype: object"
      ]
     },
     "execution_count": 7,
     "metadata": {},
     "output_type": "execute_result"
    }
   ],
   "source": [
    "basics_ratings_movie_oh.iloc[3]"
   ]
  },
  {
   "cell_type": "code",
   "execution_count": 8,
   "id": "b15bb1c3",
   "metadata": {},
   "outputs": [
    {
     "data": {
      "text/html": [
       "<div>\n",
       "<style scoped>\n",
       "    .dataframe tbody tr th:only-of-type {\n",
       "        vertical-align: middle;\n",
       "    }\n",
       "\n",
       "    .dataframe tbody tr th {\n",
       "        vertical-align: top;\n",
       "    }\n",
       "\n",
       "    .dataframe thead th {\n",
       "        text-align: right;\n",
       "    }\n",
       "</style>\n",
       "<table border=\"1\" class=\"dataframe\">\n",
       "  <thead>\n",
       "    <tr style=\"text-align: right;\">\n",
       "      <th></th>\n",
       "      <th>primaryTitle</th>\n",
       "      <th>index_x</th>\n",
       "      <th>originalTitle</th>\n",
       "      <th>startYear</th>\n",
       "      <th>runtimeMinutes</th>\n",
       "      <th>genres</th>\n",
       "      <th>index_y</th>\n",
       "      <th>averageRating</th>\n",
       "      <th>numVotes</th>\n",
       "      <th>Action</th>\n",
       "      <th>...</th>\n",
       "      <th>Mystery</th>\n",
       "      <th>News</th>\n",
       "      <th>Reality-TV</th>\n",
       "      <th>Romance</th>\n",
       "      <th>Sci-Fi</th>\n",
       "      <th>Sport</th>\n",
       "      <th>Talk-Show</th>\n",
       "      <th>Thriller</th>\n",
       "      <th>War</th>\n",
       "      <th>Western</th>\n",
       "    </tr>\n",
       "  </thead>\n",
       "  <tbody>\n",
       "    <tr>\n",
       "      <th>0</th>\n",
       "      <td>!Women Art Revolution</td>\n",
       "      <td>4546095</td>\n",
       "      <td>Women Art Revolution</td>\n",
       "      <td>2010</td>\n",
       "      <td>83</td>\n",
       "      <td>Documentary</td>\n",
       "      <td>775080.0</td>\n",
       "      <td>6.8</td>\n",
       "      <td>255.0</td>\n",
       "      <td>0</td>\n",
       "      <td>...</td>\n",
       "      <td>0</td>\n",
       "      <td>0</td>\n",
       "      <td>0</td>\n",
       "      <td>0</td>\n",
       "      <td>0</td>\n",
       "      <td>0</td>\n",
       "      <td>0</td>\n",
       "      <td>0</td>\n",
       "      <td>0</td>\n",
       "      <td>0</td>\n",
       "    </tr>\n",
       "    <tr>\n",
       "      <th>1</th>\n",
       "      <td>#1 Serial Killer</td>\n",
       "      <td>5932998</td>\n",
       "      <td>#1 Serial Killer</td>\n",
       "      <td>2013</td>\n",
       "      <td>87</td>\n",
       "      <td>Horror</td>\n",
       "      <td>916128.0</td>\n",
       "      <td>5.7</td>\n",
       "      <td>63.0</td>\n",
       "      <td>0</td>\n",
       "      <td>...</td>\n",
       "      <td>0</td>\n",
       "      <td>0</td>\n",
       "      <td>0</td>\n",
       "      <td>0</td>\n",
       "      <td>0</td>\n",
       "      <td>0</td>\n",
       "      <td>0</td>\n",
       "      <td>0</td>\n",
       "      <td>0</td>\n",
       "      <td>0</td>\n",
       "    </tr>\n",
       "    <tr>\n",
       "      <th>2</th>\n",
       "      <td>#1915House</td>\n",
       "      <td>1515213</td>\n",
       "      <td>#1915House</td>\n",
       "      <td>2018</td>\n",
       "      <td>55</td>\n",
       "      <td>Horror,Thriller</td>\n",
       "      <td>507527.0</td>\n",
       "      <td>3.4</td>\n",
       "      <td>15.0</td>\n",
       "      <td>0</td>\n",
       "      <td>...</td>\n",
       "      <td>0</td>\n",
       "      <td>0</td>\n",
       "      <td>0</td>\n",
       "      <td>0</td>\n",
       "      <td>0</td>\n",
       "      <td>0</td>\n",
       "      <td>0</td>\n",
       "      <td>1</td>\n",
       "      <td>0</td>\n",
       "      <td>0</td>\n",
       "    </tr>\n",
       "    <tr>\n",
       "      <th>3</th>\n",
       "      <td>#5</td>\n",
       "      <td>7242706</td>\n",
       "      <td>#5</td>\n",
       "      <td>2013</td>\n",
       "      <td>68</td>\n",
       "      <td>Biography,Comedy,Fantasy</td>\n",
       "      <td>1008943.0</td>\n",
       "      <td>4.8</td>\n",
       "      <td>17.0</td>\n",
       "      <td>0</td>\n",
       "      <td>...</td>\n",
       "      <td>0</td>\n",
       "      <td>0</td>\n",
       "      <td>0</td>\n",
       "      <td>0</td>\n",
       "      <td>0</td>\n",
       "      <td>0</td>\n",
       "      <td>0</td>\n",
       "      <td>0</td>\n",
       "      <td>0</td>\n",
       "      <td>0</td>\n",
       "    </tr>\n",
       "    <tr>\n",
       "      <th>4</th>\n",
       "      <td>#50Fathers</td>\n",
       "      <td>7834196</td>\n",
       "      <td>#50Fathers</td>\n",
       "      <td>2015</td>\n",
       "      <td>132</td>\n",
       "      <td>Comedy</td>\n",
       "      <td>1097096.0</td>\n",
       "      <td>4.3</td>\n",
       "      <td>11.0</td>\n",
       "      <td>0</td>\n",
       "      <td>...</td>\n",
       "      <td>0</td>\n",
       "      <td>0</td>\n",
       "      <td>0</td>\n",
       "      <td>0</td>\n",
       "      <td>0</td>\n",
       "      <td>0</td>\n",
       "      <td>0</td>\n",
       "      <td>0</td>\n",
       "      <td>0</td>\n",
       "      <td>0</td>\n",
       "    </tr>\n",
       "    <tr>\n",
       "      <th>...</th>\n",
       "      <td>...</td>\n",
       "      <td>...</td>\n",
       "      <td>...</td>\n",
       "      <td>...</td>\n",
       "      <td>...</td>\n",
       "      <td>...</td>\n",
       "      <td>...</td>\n",
       "      <td>...</td>\n",
       "      <td>...</td>\n",
       "      <td>...</td>\n",
       "      <td>...</td>\n",
       "      <td>...</td>\n",
       "      <td>...</td>\n",
       "      <td>...</td>\n",
       "      <td>...</td>\n",
       "      <td>...</td>\n",
       "      <td>...</td>\n",
       "      <td>...</td>\n",
       "      <td>...</td>\n",
       "      <td>...</td>\n",
       "      <td>...</td>\n",
       "    </tr>\n",
       "    <tr>\n",
       "      <th>235148</th>\n",
       "      <td>Üçlü Pürüz</td>\n",
       "      <td>6497576</td>\n",
       "      <td>Üçlü Pürüz</td>\n",
       "      <td>2023</td>\n",
       "      <td>105</td>\n",
       "      <td>Comedy</td>\n",
       "      <td>967163.0</td>\n",
       "      <td>4.7</td>\n",
       "      <td>232.0</td>\n",
       "      <td>0</td>\n",
       "      <td>...</td>\n",
       "      <td>0</td>\n",
       "      <td>0</td>\n",
       "      <td>0</td>\n",
       "      <td>0</td>\n",
       "      <td>0</td>\n",
       "      <td>0</td>\n",
       "      <td>0</td>\n",
       "      <td>0</td>\n",
       "      <td>0</td>\n",
       "      <td>0</td>\n",
       "    </tr>\n",
       "    <tr>\n",
       "      <th>235149</th>\n",
       "      <td>Üçünüzü de mihlarim</td>\n",
       "      <td>263372</td>\n",
       "      <td>Üçünüzü de mihlarim</td>\n",
       "      <td>1965</td>\n",
       "      <td>70</td>\n",
       "      <td>Adventure,Drama</td>\n",
       "      <td>166379.0</td>\n",
       "      <td>5.9</td>\n",
       "      <td>36.0</td>\n",
       "      <td>0</td>\n",
       "      <td>...</td>\n",
       "      <td>0</td>\n",
       "      <td>0</td>\n",
       "      <td>0</td>\n",
       "      <td>0</td>\n",
       "      <td>0</td>\n",
       "      <td>0</td>\n",
       "      <td>0</td>\n",
       "      <td>0</td>\n",
       "      <td>0</td>\n",
       "      <td>0</td>\n",
       "    </tr>\n",
       "    <tr>\n",
       "      <th>235150</th>\n",
       "      <td>Þegiðu og syntu</td>\n",
       "      <td>2448620</td>\n",
       "      <td>Þegiðu og syntu</td>\n",
       "      <td>2020</td>\n",
       "      <td>72</td>\n",
       "      <td>Documentary</td>\n",
       "      <td>595246.0</td>\n",
       "      <td>9.4</td>\n",
       "      <td>14.0</td>\n",
       "      <td>0</td>\n",
       "      <td>...</td>\n",
       "      <td>0</td>\n",
       "      <td>0</td>\n",
       "      <td>0</td>\n",
       "      <td>0</td>\n",
       "      <td>0</td>\n",
       "      <td>0</td>\n",
       "      <td>0</td>\n",
       "      <td>0</td>\n",
       "      <td>0</td>\n",
       "      <td>0</td>\n",
       "    </tr>\n",
       "    <tr>\n",
       "      <th>235151</th>\n",
       "      <td>à propos: philosophie</td>\n",
       "      <td>8162963</td>\n",
       "      <td>à propos: philosophie</td>\n",
       "      <td>2016</td>\n",
       "      <td>80</td>\n",
       "      <td>Documentary</td>\n",
       "      <td>1141700.0</td>\n",
       "      <td>8.5</td>\n",
       "      <td>8.0</td>\n",
       "      <td>0</td>\n",
       "      <td>...</td>\n",
       "      <td>0</td>\n",
       "      <td>0</td>\n",
       "      <td>0</td>\n",
       "      <td>0</td>\n",
       "      <td>0</td>\n",
       "      <td>0</td>\n",
       "      <td>0</td>\n",
       "      <td>0</td>\n",
       "      <td>0</td>\n",
       "      <td>0</td>\n",
       "    </tr>\n",
       "    <tr>\n",
       "      <th>235152</th>\n",
       "      <td>ärtico</td>\n",
       "      <td>7410356</td>\n",
       "      <td>ärtico</td>\n",
       "      <td>2014</td>\n",
       "      <td>78</td>\n",
       "      <td>Drama</td>\n",
       "      <td>1036398.0</td>\n",
       "      <td>5.6</td>\n",
       "      <td>121.0</td>\n",
       "      <td>0</td>\n",
       "      <td>...</td>\n",
       "      <td>0</td>\n",
       "      <td>0</td>\n",
       "      <td>0</td>\n",
       "      <td>0</td>\n",
       "      <td>0</td>\n",
       "      <td>0</td>\n",
       "      <td>0</td>\n",
       "      <td>0</td>\n",
       "      <td>0</td>\n",
       "      <td>0</td>\n",
       "    </tr>\n",
       "  </tbody>\n",
       "</table>\n",
       "<p>235153 rows × 35 columns</p>\n",
       "</div>"
      ],
      "text/plain": [
       "                 primaryTitle  index_x          originalTitle  startYear  \\\n",
       "0       !Women Art Revolution  4546095   Women Art Revolution       2010   \n",
       "1            #1 Serial Killer  5932998       #1 Serial Killer       2013   \n",
       "2                  #1915House  1515213             #1915House       2018   \n",
       "3                          #5  7242706                     #5       2013   \n",
       "4                  #50Fathers  7834196             #50Fathers       2015   \n",
       "...                       ...      ...                    ...        ...   \n",
       "235148             Üçlü Pürüz  6497576             Üçlü Pürüz       2023   \n",
       "235149    Üçünüzü de mihlarim   263372    Üçünüzü de mihlarim       1965   \n",
       "235150        Þegiðu og syntu  2448620        Þegiðu og syntu       2020   \n",
       "235151  à propos: philosophie  8162963  à propos: philosophie       2016   \n",
       "235152                 ärtico  7410356                 ärtico       2014   \n",
       "\n",
       "        runtimeMinutes                    genres    index_y  averageRating  \\\n",
       "0                   83               Documentary   775080.0            6.8   \n",
       "1                   87                    Horror   916128.0            5.7   \n",
       "2                   55           Horror,Thriller   507527.0            3.4   \n",
       "3                   68  Biography,Comedy,Fantasy  1008943.0            4.8   \n",
       "4                  132                    Comedy  1097096.0            4.3   \n",
       "...                ...                       ...        ...            ...   \n",
       "235148             105                    Comedy   967163.0            4.7   \n",
       "235149              70           Adventure,Drama   166379.0            5.9   \n",
       "235150              72               Documentary   595246.0            9.4   \n",
       "235151              80               Documentary  1141700.0            8.5   \n",
       "235152              78                     Drama  1036398.0            5.6   \n",
       "\n",
       "        numVotes  Action  ...  Mystery  News  Reality-TV  Romance  Sci-Fi  \\\n",
       "0          255.0       0  ...        0     0           0        0       0   \n",
       "1           63.0       0  ...        0     0           0        0       0   \n",
       "2           15.0       0  ...        0     0           0        0       0   \n",
       "3           17.0       0  ...        0     0           0        0       0   \n",
       "4           11.0       0  ...        0     0           0        0       0   \n",
       "...          ...     ...  ...      ...   ...         ...      ...     ...   \n",
       "235148     232.0       0  ...        0     0           0        0       0   \n",
       "235149      36.0       0  ...        0     0           0        0       0   \n",
       "235150      14.0       0  ...        0     0           0        0       0   \n",
       "235151       8.0       0  ...        0     0           0        0       0   \n",
       "235152     121.0       0  ...        0     0           0        0       0   \n",
       "\n",
       "        Sport  Talk-Show  Thriller  War  Western  \n",
       "0           0          0         0    0        0  \n",
       "1           0          0         0    0        0  \n",
       "2           0          0         1    0        0  \n",
       "3           0          0         0    0        0  \n",
       "4           0          0         0    0        0  \n",
       "...       ...        ...       ...  ...      ...  \n",
       "235148      0          0         0    0        0  \n",
       "235149      0          0         0    0        0  \n",
       "235150      0          0         0    0        0  \n",
       "235151      0          0         0    0        0  \n",
       "235152      0          0         0    0        0  \n",
       "\n",
       "[235153 rows x 35 columns]"
      ]
     },
     "execution_count": 8,
     "metadata": {},
     "output_type": "execute_result"
    }
   ],
   "source": [
    "basics_ratings_movie_oh"
   ]
  },
  {
   "cell_type": "code",
   "execution_count": 9,
   "id": "b23c01e3",
   "metadata": {},
   "outputs": [],
   "source": [
    "X = basics_ratings_movie_oh.drop(columns=[\"averageRating\", \"numVotes\", \"genres\", \"primaryTitle\", \"originalTitle\", \"index_y\",\"index_x\"])\n",
    "y = basics_ratings_movie_oh[\"averageRating\"]"
   ]
  },
  {
   "cell_type": "code",
   "execution_count": 10,
   "id": "98c1b0e5",
   "metadata": {},
   "outputs": [
    {
     "data": {
      "text/html": [
       "<div>\n",
       "<style scoped>\n",
       "    .dataframe tbody tr th:only-of-type {\n",
       "        vertical-align: middle;\n",
       "    }\n",
       "\n",
       "    .dataframe tbody tr th {\n",
       "        vertical-align: top;\n",
       "    }\n",
       "\n",
       "    .dataframe thead th {\n",
       "        text-align: right;\n",
       "    }\n",
       "</style>\n",
       "<table border=\"1\" class=\"dataframe\">\n",
       "  <thead>\n",
       "    <tr style=\"text-align: right;\">\n",
       "      <th></th>\n",
       "      <th>startYear</th>\n",
       "      <th>runtimeMinutes</th>\n",
       "      <th>Action</th>\n",
       "      <th>Adult</th>\n",
       "      <th>Adventure</th>\n",
       "      <th>Animation</th>\n",
       "      <th>Biography</th>\n",
       "      <th>Comedy</th>\n",
       "      <th>Crime</th>\n",
       "      <th>Documentary</th>\n",
       "      <th>...</th>\n",
       "      <th>Mystery</th>\n",
       "      <th>News</th>\n",
       "      <th>Reality-TV</th>\n",
       "      <th>Romance</th>\n",
       "      <th>Sci-Fi</th>\n",
       "      <th>Sport</th>\n",
       "      <th>Talk-Show</th>\n",
       "      <th>Thriller</th>\n",
       "      <th>War</th>\n",
       "      <th>Western</th>\n",
       "    </tr>\n",
       "  </thead>\n",
       "  <tbody>\n",
       "    <tr>\n",
       "      <th>0</th>\n",
       "      <td>2010</td>\n",
       "      <td>83</td>\n",
       "      <td>0</td>\n",
       "      <td>0</td>\n",
       "      <td>0</td>\n",
       "      <td>0</td>\n",
       "      <td>0</td>\n",
       "      <td>0</td>\n",
       "      <td>0</td>\n",
       "      <td>1</td>\n",
       "      <td>...</td>\n",
       "      <td>0</td>\n",
       "      <td>0</td>\n",
       "      <td>0</td>\n",
       "      <td>0</td>\n",
       "      <td>0</td>\n",
       "      <td>0</td>\n",
       "      <td>0</td>\n",
       "      <td>0</td>\n",
       "      <td>0</td>\n",
       "      <td>0</td>\n",
       "    </tr>\n",
       "    <tr>\n",
       "      <th>1</th>\n",
       "      <td>2013</td>\n",
       "      <td>87</td>\n",
       "      <td>0</td>\n",
       "      <td>0</td>\n",
       "      <td>0</td>\n",
       "      <td>0</td>\n",
       "      <td>0</td>\n",
       "      <td>0</td>\n",
       "      <td>0</td>\n",
       "      <td>0</td>\n",
       "      <td>...</td>\n",
       "      <td>0</td>\n",
       "      <td>0</td>\n",
       "      <td>0</td>\n",
       "      <td>0</td>\n",
       "      <td>0</td>\n",
       "      <td>0</td>\n",
       "      <td>0</td>\n",
       "      <td>0</td>\n",
       "      <td>0</td>\n",
       "      <td>0</td>\n",
       "    </tr>\n",
       "    <tr>\n",
       "      <th>2</th>\n",
       "      <td>2018</td>\n",
       "      <td>55</td>\n",
       "      <td>0</td>\n",
       "      <td>0</td>\n",
       "      <td>0</td>\n",
       "      <td>0</td>\n",
       "      <td>0</td>\n",
       "      <td>0</td>\n",
       "      <td>0</td>\n",
       "      <td>0</td>\n",
       "      <td>...</td>\n",
       "      <td>0</td>\n",
       "      <td>0</td>\n",
       "      <td>0</td>\n",
       "      <td>0</td>\n",
       "      <td>0</td>\n",
       "      <td>0</td>\n",
       "      <td>0</td>\n",
       "      <td>1</td>\n",
       "      <td>0</td>\n",
       "      <td>0</td>\n",
       "    </tr>\n",
       "    <tr>\n",
       "      <th>3</th>\n",
       "      <td>2013</td>\n",
       "      <td>68</td>\n",
       "      <td>0</td>\n",
       "      <td>0</td>\n",
       "      <td>0</td>\n",
       "      <td>0</td>\n",
       "      <td>1</td>\n",
       "      <td>1</td>\n",
       "      <td>0</td>\n",
       "      <td>0</td>\n",
       "      <td>...</td>\n",
       "      <td>0</td>\n",
       "      <td>0</td>\n",
       "      <td>0</td>\n",
       "      <td>0</td>\n",
       "      <td>0</td>\n",
       "      <td>0</td>\n",
       "      <td>0</td>\n",
       "      <td>0</td>\n",
       "      <td>0</td>\n",
       "      <td>0</td>\n",
       "    </tr>\n",
       "    <tr>\n",
       "      <th>4</th>\n",
       "      <td>2015</td>\n",
       "      <td>132</td>\n",
       "      <td>0</td>\n",
       "      <td>0</td>\n",
       "      <td>0</td>\n",
       "      <td>0</td>\n",
       "      <td>0</td>\n",
       "      <td>1</td>\n",
       "      <td>0</td>\n",
       "      <td>0</td>\n",
       "      <td>...</td>\n",
       "      <td>0</td>\n",
       "      <td>0</td>\n",
       "      <td>0</td>\n",
       "      <td>0</td>\n",
       "      <td>0</td>\n",
       "      <td>0</td>\n",
       "      <td>0</td>\n",
       "      <td>0</td>\n",
       "      <td>0</td>\n",
       "      <td>0</td>\n",
       "    </tr>\n",
       "    <tr>\n",
       "      <th>...</th>\n",
       "      <td>...</td>\n",
       "      <td>...</td>\n",
       "      <td>...</td>\n",
       "      <td>...</td>\n",
       "      <td>...</td>\n",
       "      <td>...</td>\n",
       "      <td>...</td>\n",
       "      <td>...</td>\n",
       "      <td>...</td>\n",
       "      <td>...</td>\n",
       "      <td>...</td>\n",
       "      <td>...</td>\n",
       "      <td>...</td>\n",
       "      <td>...</td>\n",
       "      <td>...</td>\n",
       "      <td>...</td>\n",
       "      <td>...</td>\n",
       "      <td>...</td>\n",
       "      <td>...</td>\n",
       "      <td>...</td>\n",
       "      <td>...</td>\n",
       "    </tr>\n",
       "    <tr>\n",
       "      <th>235148</th>\n",
       "      <td>2023</td>\n",
       "      <td>105</td>\n",
       "      <td>0</td>\n",
       "      <td>0</td>\n",
       "      <td>0</td>\n",
       "      <td>0</td>\n",
       "      <td>0</td>\n",
       "      <td>1</td>\n",
       "      <td>0</td>\n",
       "      <td>0</td>\n",
       "      <td>...</td>\n",
       "      <td>0</td>\n",
       "      <td>0</td>\n",
       "      <td>0</td>\n",
       "      <td>0</td>\n",
       "      <td>0</td>\n",
       "      <td>0</td>\n",
       "      <td>0</td>\n",
       "      <td>0</td>\n",
       "      <td>0</td>\n",
       "      <td>0</td>\n",
       "    </tr>\n",
       "    <tr>\n",
       "      <th>235149</th>\n",
       "      <td>1965</td>\n",
       "      <td>70</td>\n",
       "      <td>0</td>\n",
       "      <td>0</td>\n",
       "      <td>1</td>\n",
       "      <td>0</td>\n",
       "      <td>0</td>\n",
       "      <td>0</td>\n",
       "      <td>0</td>\n",
       "      <td>0</td>\n",
       "      <td>...</td>\n",
       "      <td>0</td>\n",
       "      <td>0</td>\n",
       "      <td>0</td>\n",
       "      <td>0</td>\n",
       "      <td>0</td>\n",
       "      <td>0</td>\n",
       "      <td>0</td>\n",
       "      <td>0</td>\n",
       "      <td>0</td>\n",
       "      <td>0</td>\n",
       "    </tr>\n",
       "    <tr>\n",
       "      <th>235150</th>\n",
       "      <td>2020</td>\n",
       "      <td>72</td>\n",
       "      <td>0</td>\n",
       "      <td>0</td>\n",
       "      <td>0</td>\n",
       "      <td>0</td>\n",
       "      <td>0</td>\n",
       "      <td>0</td>\n",
       "      <td>0</td>\n",
       "      <td>1</td>\n",
       "      <td>...</td>\n",
       "      <td>0</td>\n",
       "      <td>0</td>\n",
       "      <td>0</td>\n",
       "      <td>0</td>\n",
       "      <td>0</td>\n",
       "      <td>0</td>\n",
       "      <td>0</td>\n",
       "      <td>0</td>\n",
       "      <td>0</td>\n",
       "      <td>0</td>\n",
       "    </tr>\n",
       "    <tr>\n",
       "      <th>235151</th>\n",
       "      <td>2016</td>\n",
       "      <td>80</td>\n",
       "      <td>0</td>\n",
       "      <td>0</td>\n",
       "      <td>0</td>\n",
       "      <td>0</td>\n",
       "      <td>0</td>\n",
       "      <td>0</td>\n",
       "      <td>0</td>\n",
       "      <td>1</td>\n",
       "      <td>...</td>\n",
       "      <td>0</td>\n",
       "      <td>0</td>\n",
       "      <td>0</td>\n",
       "      <td>0</td>\n",
       "      <td>0</td>\n",
       "      <td>0</td>\n",
       "      <td>0</td>\n",
       "      <td>0</td>\n",
       "      <td>0</td>\n",
       "      <td>0</td>\n",
       "    </tr>\n",
       "    <tr>\n",
       "      <th>235152</th>\n",
       "      <td>2014</td>\n",
       "      <td>78</td>\n",
       "      <td>0</td>\n",
       "      <td>0</td>\n",
       "      <td>0</td>\n",
       "      <td>0</td>\n",
       "      <td>0</td>\n",
       "      <td>0</td>\n",
       "      <td>0</td>\n",
       "      <td>0</td>\n",
       "      <td>...</td>\n",
       "      <td>0</td>\n",
       "      <td>0</td>\n",
       "      <td>0</td>\n",
       "      <td>0</td>\n",
       "      <td>0</td>\n",
       "      <td>0</td>\n",
       "      <td>0</td>\n",
       "      <td>0</td>\n",
       "      <td>0</td>\n",
       "      <td>0</td>\n",
       "    </tr>\n",
       "  </tbody>\n",
       "</table>\n",
       "<p>235153 rows × 28 columns</p>\n",
       "</div>"
      ],
      "text/plain": [
       "        startYear  runtimeMinutes  Action  Adult  Adventure  Animation  \\\n",
       "0            2010              83       0      0          0          0   \n",
       "1            2013              87       0      0          0          0   \n",
       "2            2018              55       0      0          0          0   \n",
       "3            2013              68       0      0          0          0   \n",
       "4            2015             132       0      0          0          0   \n",
       "...           ...             ...     ...    ...        ...        ...   \n",
       "235148       2023             105       0      0          0          0   \n",
       "235149       1965              70       0      0          1          0   \n",
       "235150       2020              72       0      0          0          0   \n",
       "235151       2016              80       0      0          0          0   \n",
       "235152       2014              78       0      0          0          0   \n",
       "\n",
       "        Biography  Comedy  Crime  Documentary  ...  Mystery  News  Reality-TV  \\\n",
       "0               0       0      0            1  ...        0     0           0   \n",
       "1               0       0      0            0  ...        0     0           0   \n",
       "2               0       0      0            0  ...        0     0           0   \n",
       "3               1       1      0            0  ...        0     0           0   \n",
       "4               0       1      0            0  ...        0     0           0   \n",
       "...           ...     ...    ...          ...  ...      ...   ...         ...   \n",
       "235148          0       1      0            0  ...        0     0           0   \n",
       "235149          0       0      0            0  ...        0     0           0   \n",
       "235150          0       0      0            1  ...        0     0           0   \n",
       "235151          0       0      0            1  ...        0     0           0   \n",
       "235152          0       0      0            0  ...        0     0           0   \n",
       "\n",
       "        Romance  Sci-Fi  Sport  Talk-Show  Thriller  War  Western  \n",
       "0             0       0      0          0         0    0        0  \n",
       "1             0       0      0          0         0    0        0  \n",
       "2             0       0      0          0         1    0        0  \n",
       "3             0       0      0          0         0    0        0  \n",
       "4             0       0      0          0         0    0        0  \n",
       "...         ...     ...    ...        ...       ...  ...      ...  \n",
       "235148        0       0      0          0         0    0        0  \n",
       "235149        0       0      0          0         0    0        0  \n",
       "235150        0       0      0          0         0    0        0  \n",
       "235151        0       0      0          0         0    0        0  \n",
       "235152        0       0      0          0         0    0        0  \n",
       "\n",
       "[235153 rows x 28 columns]"
      ]
     },
     "execution_count": 10,
     "metadata": {},
     "output_type": "execute_result"
    }
   ],
   "source": [
    "X"
   ]
  },
  {
   "cell_type": "markdown",
   "id": "01b17724",
   "metadata": {},
   "source": [
    "## Train Test Split"
   ]
  },
  {
   "cell_type": "code",
   "execution_count": 11,
   "id": "f5c2c26e",
   "metadata": {},
   "outputs": [],
   "source": [
    "X_dev, X_test, y_dev, y_test = train_test_split(X, y, random_state=42, test_size=0.2)\n",
    "X_train, X_val, y_train, y_val = train_test_split(X_dev, y_dev, random_state=42, test_size=0.25)"
   ]
  },
  {
   "cell_type": "markdown",
   "id": "e7415a27",
   "metadata": {},
   "source": [
    "## Normal XGB Regressor"
   ]
  },
  {
   "cell_type": "code",
   "execution_count": 48,
   "id": "65118bd7",
   "metadata": {},
   "outputs": [
    {
     "name": "stdout",
     "output_type": "stream",
     "text": [
      "Training time: 3.0649642944335938s\n",
      "mse base model:  1.3066855363664056\n",
      "r2 base model:  0.2791387447333883\n"
     ]
    }
   ],
   "source": [
    "import time\n",
    "xgb = XGBRegressor()\n",
    "\n",
    "start = time.time()\n",
    "xgb.fit(X_dev, y_dev)\n",
    "stop = time.time()\n",
    "print(f\"Training time: {stop - start}s\")\n",
    "\n",
    "xgb_y_predict = xgb.predict(X_test)\n",
    "  \n",
    "print(\"mse base model: \",mean_squared_error(y_test,xgb_y_predict))\n",
    "print(\"r2 base model: \",r2_score(y_test,xgb_y_predict))"
   ]
  },
  {
   "cell_type": "code",
   "execution_count": 13,
   "id": "395cb7c2",
   "metadata": {},
   "outputs": [
    {
     "data": {
      "text/plain": [
       "[('Documentary', 0.54159784),\n",
       " ('Drama', 0.106980495),\n",
       " ('Horror', 0.08310876),\n",
       " ('Animation', 0.030699996),\n",
       " ('Music', 0.018940913),\n",
       " ('Film-Noir', 0.018609848),\n",
       " ('Action', 0.015193384),\n",
       " ('Comedy', 0.014820483),\n",
       " ('Adult', 0.014179916),\n",
       " ('runtimeMinutes', 0.014116204),\n",
       " ('Sci-Fi', 0.013536454),\n",
       " ('Biography', 0.0122816395),\n",
       " ('Family', 0.01089817),\n",
       " ('startYear', 0.010682318),\n",
       " ('Thriller', 0.010356297),\n",
       " ('Crime', 0.009643007),\n",
       " ('Mystery', 0.00929135),\n",
       " ('History', 0.008566439),\n",
       " ('Romance', 0.008229738),\n",
       " ('Musical', 0.0070387716),\n",
       " ('Fantasy', 0.007034747),\n",
       " ('War', 0.0065453313),\n",
       " ('Western', 0.006009533),\n",
       " ('Adventure', 0.005728814),\n",
       " ('Reality-TV', 0.00515453),\n",
       " ('Sport', 0.0048591583),\n",
       " ('Talk-Show', 0.0030576226),\n",
       " ('News', 0.0028382319)]"
      ]
     },
     "execution_count": 13,
     "metadata": {},
     "output_type": "execute_result"
    }
   ],
   "source": [
    "#feature importances for normal XGB Regressor\n",
    "feature_names = X_dev.columns\n",
    "feature_imps = zip(feature_names, xgb.feature_importances_)\n",
    "feature_imps=sorted(list(feature_imps), key=lambda x: x[1], reverse=True)\n",
    "feature_imps"
   ]
  },
  {
   "cell_type": "markdown",
   "id": "f3c9500d",
   "metadata": {},
   "source": [
    "## Hyperparameter Tuning"
   ]
  },
  {
   "cell_type": "code",
   "execution_count": 44,
   "id": "ff831577",
   "metadata": {},
   "outputs": [],
   "source": [
    "xgb = XGBRegressor()"
   ]
  },
  {
   "cell_type": "code",
   "execution_count": 15,
   "id": "71071cff",
   "metadata": {},
   "outputs": [],
   "source": [
    "from sklearn.model_selection import GridSearchCV\n"
   ]
  },
  {
   "cell_type": "code",
   "execution_count": 45,
   "id": "4c8940d2",
   "metadata": {},
   "outputs": [],
   "source": [
    "hyper_params = {\"learning_rate\": [0.01, 0.1, 0.3, 1], \"max_depth\": [3, 6, 9, 12],\"booster\": [\"gbtree\"], \"subsample\":[0.5, 0.75, 1]}\n",
    "tree_xgb_grid = GridSearchCV(xgb, hyper_params, cv=5, n_jobs=-1, verbose=1,scoring=\"neg_mean_squared_error\")"
   ]
  },
  {
   "cell_type": "code",
   "execution_count": 46,
   "id": "527cd5f9",
   "metadata": {},
   "outputs": [
    {
     "name": "stdout",
     "output_type": "stream",
     "text": [
      "Fitting 5 folds for each of 48 candidates, totalling 240 fits\n",
      "Training time: 548.6085739135742s\n"
     ]
    }
   ],
   "source": [
    "import time\n",
    "\n",
    "start = time.time()\n",
    "tree_xgb_grid.fit(X_dev, y_dev)\n",
    "stop = time.time()\n",
    "print(f\"Training time: {stop - start}s\")"
   ]
  },
  {
   "cell_type": "code",
   "execution_count": 47,
   "id": "927806c7",
   "metadata": {},
   "outputs": [
    {
     "data": {
      "text/plain": [
       "{'booster': 'gbtree', 'learning_rate': 0.1, 'max_depth': 9, 'subsample': 0.75}"
      ]
     },
     "execution_count": 47,
     "metadata": {},
     "output_type": "execute_result"
    }
   ],
   "source": [
    "best_params = tree_xgb_grid.best_params_\n",
    "best_params"
   ]
  },
  {
   "cell_type": "markdown",
   "id": "b284074c",
   "metadata": {},
   "source": [
    "## XGB With Best Params"
   ]
  },
  {
   "cell_type": "code",
   "execution_count": 49,
   "id": "467fa5d2",
   "metadata": {},
   "outputs": [
    {
     "name": "stdout",
     "output_type": "stream",
     "text": [
      "Training time: 2.8962960243225098s\n"
     ]
    }
   ],
   "source": [
    "best_xgb = XGBRegressor(learning_rate=best_params[\"learning_rate\"], max_depth=best_params[\"max_depth\"], subsample=best_params[\"subsample\"])\n",
    "start = time.time()\n",
    "\n",
    "best_xgb.fit(X_dev, y_dev)\n",
    "stop = time.time()\n",
    "print(f\"Training time: {stop - start}s\")\n"
   ]
  },
  {
   "cell_type": "code",
   "execution_count": 20,
   "id": "6c1a6d31",
   "metadata": {},
   "outputs": [],
   "source": [
    "f_importance = best_xgb.get_booster().get_score(importance_type='gain')\n",
    "\n",
    "importance_df = pd.DataFrame.from_dict(data=f_importance, \n",
    "                                       orient='index')"
   ]
  },
  {
   "cell_type": "code",
   "execution_count": 21,
   "id": "fea3d923",
   "metadata": {},
   "outputs": [
    {
     "data": {
      "text/plain": [
       "<AxesSubplot:title={'center':'Feature Importance for XGBoost Regression Model'}, xlabel='Feature', ylabel='Importance'>"
      ]
     },
     "execution_count": 21,
     "metadata": {},
     "output_type": "execute_result"
    },
    {
     "data": {
      "image/png": "[encoded data removed]",
      "text/plain": [
       "<Figure size 432x288 with 1 Axes>"
      ]
     },
     "metadata": {
      "needs_background": "light"
     },
     "output_type": "display_data"
    }
   ],
   "source": [
    "importance_df.plot.bar(legend=False, ylabel=\"Importance\",xlabel=\"Feature\",\n",
    "                    title=\"Feature Importance for XGBoost Regression Model\")\n"
   ]
  },
  {
   "cell_type": "code",
   "execution_count": 22,
   "id": "06ba73d9",
   "metadata": {},
   "outputs": [
    {
     "data": {
      "text/plain": [
       "1.3039147650288285"
      ]
     },
     "execution_count": 22,
     "metadata": {},
     "output_type": "execute_result"
    }
   ],
   "source": [
    "best_xgb_y_predict = best_xgb.predict(X_test)\n",
    "  \n",
    "mean_squared_error(y_test,best_xgb_y_predict)"
   ]
  },
  {
   "cell_type": "code",
   "execution_count": 24,
   "id": "ebcf99f0",
   "metadata": {},
   "outputs": [
    {
     "data": {
      "text/plain": [
       "0.2806673004944147"
      ]
     },
     "execution_count": 24,
     "metadata": {},
     "output_type": "execute_result"
    }
   ],
   "source": [
    "r2_score(y_test, best_xgb_y_predict)"
   ]
  },
  {
   "cell_type": "code",
   "execution_count": 41,
   "id": "d115609f",
   "metadata": {},
   "outputs": [
    {
     "data": {
      "text/plain": [
       "Text(0, 0.5, 'Prediction')"
      ]
     },
     "execution_count": 41,
     "metadata": {},
     "output_type": "execute_result"
    },
    {
     "data": {
      "image/png": "[encoded data removed]",
      "text/plain": [
       "<Figure size 432x288 with 1 Axes>"
      ]
     },
     "metadata": {
      "needs_background": "light"
     },
     "output_type": "display_data"
    }
   ],
   "source": [
    "plt.scatter(y_test,best_xgb_y_predict)\n",
    "plt.plot(np.arange(0,11,0.1), np.arange(0,11,0.1), color=\"r\")\n",
    "ax = plt.gca()\n",
    "ax.set_xlim([0, 11])\n",
    "ax.set_ylim([0, 11])\n",
    "plt.title(\"Actual vs Prediction Plot for XGBoost Regressor\")\n",
    "plt.xlabel(\"Actual\")\n",
    "plt.ylabel(\"Prediction\")"
   ]
  },
  {
   "cell_type": "code",
   "execution_count": 35,
   "id": "ef9505de",
   "metadata": {},
   "outputs": [],
   "source": [
    "import seaborn as sns"
   ]
  },
  {
   "cell_type": "code",
   "execution_count": 42,
   "id": "e56c7247",
   "metadata": {},
   "outputs": [
    {
     "data": {
      "image/png": "[encoded data removed]",
      "text/plain": [
       "<Figure size 432x288 with 1 Axes>"
      ]
     },
     "metadata": {
      "needs_background": "light"
     },
     "output_type": "display_data"
    }
   ],
   "source": [
    "sns.residplot(x=y_test, y=best_xgb_y_predict, scatter_kws={'s': 10}, line_kws={'color': 'red'})\n",
    "plt.plot(np.arange(0,11,0.1), np.zeros(110), color=\"r\")\n",
    "plt.xlabel('Predicted Values ')\n",
    "plt.ylabel('Residuals')\n",
    "plt.title('Residual Plot for XGBoost Regressor')\n",
    "plt.show()"
   ]
  },
  {
   "cell_type": "markdown",
   "id": "3f9062ce",
   "metadata": {},
   "source": [
    "# Miscelleneous"
   ]
  },
  {
   "cell_type": "code",
   "execution_count": 18,
   "id": "01ff7a8a",
   "metadata": {},
   "outputs": [
    {
     "data": {
      "text/html": [
       "<style>#sk-container-id-1 {color: black;}#sk-container-id-1 pre{padding: 0;}#sk-container-id-1 div.sk-toggleable {background-color: white;}#sk-container-id-1 label.sk-toggleable__label {cursor: pointer;display: block;width: 100%;margin-bottom: 0;padding: 0.3em;box-sizing: border-box;text-align: center;}#sk-container-id-1 label.sk-toggleable__label-arrow:before {content: \"▸\";float: left;margin-right: 0.25em;color: #696969;}#sk-container-id-1 label.sk-toggleable__label-arrow:hover:before {color: black;}#sk-container-id-1 div.sk-estimator:hover label.sk-toggleable__label-arrow:before {color: black;}#sk-container-id-1 div.sk-toggleable__content {max-height: 0;max-width: 0;overflow: hidden;text-align: left;background-color: #f0f8ff;}#sk-container-id-1 div.sk-toggleable__content pre {margin: 0.2em;color: black;border-radius: 0.25em;background-color: #f0f8ff;}#sk-container-id-1 input.sk-toggleable__control:checked~div.sk-toggleable__content {max-height: 200px;max-width: 100%;overflow: auto;}#sk-container-id-1 input.sk-toggleable__control:checked~label.sk-toggleable__label-arrow:before {content: \"▾\";}#sk-container-id-1 div.sk-estimator input.sk-toggleable__control:checked~label.sk-toggleable__label {background-color: #d4ebff;}#sk-container-id-1 div.sk-label input.sk-toggleable__control:checked~label.sk-toggleable__label {background-color: #d4ebff;}#sk-container-id-1 input.sk-hidden--visually {border: 0;clip: rect(1px 1px 1px 1px);clip: rect(1px, 1px, 1px, 1px);height: 1px;margin: -1px;overflow: hidden;padding: 0;position: absolute;width: 1px;}#sk-container-id-1 div.sk-estimator {font-family: monospace;background-color: #f0f8ff;border: 1px dotted black;border-radius: 0.25em;box-sizing: border-box;margin-bottom: 0.5em;}#sk-container-id-1 div.sk-estimator:hover {background-color: #d4ebff;}#sk-container-id-1 div.sk-parallel-item::after {content: \"\";width: 100%;border-bottom: 1px solid gray;flex-grow: 1;}#sk-container-id-1 div.sk-label:hover label.sk-toggleable__label {background-color: #d4ebff;}#sk-container-id-1 div.sk-serial::before {content: \"\";position: absolute;border-left: 1px solid gray;box-sizing: border-box;top: 0;bottom: 0;left: 50%;z-index: 0;}#sk-container-id-1 div.sk-serial {display: flex;flex-direction: column;align-items: center;background-color: white;padding-right: 0.2em;padding-left: 0.2em;position: relative;}#sk-container-id-1 div.sk-item {position: relative;z-index: 1;}#sk-container-id-1 div.sk-parallel {display: flex;align-items: stretch;justify-content: center;background-color: white;position: relative;}#sk-container-id-1 div.sk-item::before, #sk-container-id-1 div.sk-parallel-item::before {content: \"\";position: absolute;border-left: 1px solid gray;box-sizing: border-box;top: 0;bottom: 0;left: 50%;z-index: -1;}#sk-container-id-1 div.sk-parallel-item {display: flex;flex-direction: column;z-index: 1;position: relative;background-color: white;}#sk-container-id-1 div.sk-parallel-item:first-child::after {align-self: flex-end;width: 50%;}#sk-container-id-1 div.sk-parallel-item:last-child::after {align-self: flex-start;width: 50%;}#sk-container-id-1 div.sk-parallel-item:only-child::after {width: 0;}#sk-container-id-1 div.sk-dashed-wrapped {border: 1px dashed gray;margin: 0 0.4em 0.5em 0.4em;box-sizing: border-box;padding-bottom: 0.4em;background-color: white;}#sk-container-id-1 div.sk-label label {font-family: monospace;font-weight: bold;display: inline-block;line-height: 1.2em;}#sk-container-id-1 div.sk-label-container {text-align: center;}#sk-container-id-1 div.sk-container {/* jupyter's `normalize.less` sets `[hidden] { display: none; }` but bootstrap.min.css set `[hidden] { display: none !important; }` so we also need the `!important` here to be able to override the default hidden behavior on the sphinx rendered scikit-learn.org. See: https://github.com/scikit-learn/scikit-learn/issues/21755 */display: inline-block !important;position: relative;}#sk-container-id-1 div.sk-text-repr-fallback {display: none;}</style><div id=\"sk-container-id-1\" class=\"sk-top-container\"><div class=\"sk-text-repr-fallback\"><pre>LinearRegression()</pre><b>In a Jupyter environment, please rerun this cell to show the HTML representation or trust the notebook. <br />On GitHub, the HTML representation is unable to render, please try loading this page with nbviewer.org.</b></div><div class=\"sk-container\" hidden><div class=\"sk-item\"><div class=\"sk-estimator sk-toggleable\"><input class=\"sk-toggleable__control sk-hidden--visually\" id=\"sk-estimator-id-1\" type=\"checkbox\" checked><label for=\"sk-estimator-id-1\" class=\"sk-toggleable__label sk-toggleable__label-arrow\">LinearRegression</label><div class=\"sk-toggleable__content\"><pre>LinearRegression()</pre></div></div></div></div></div>"
      ],
      "text/plain": [
       "LinearRegression()"
      ]
     },
     "execution_count": 18,
     "metadata": {},
     "output_type": "execute_result"
    }
   ],
   "source": [
    "lr = LinearRegression()\n",
    "lr.fit(X_train, y_train)"
   ]
  },
  {
   "cell_type": "code",
   "execution_count": null,
   "id": "63eb3e8a",
   "metadata": {},
   "outputs": [],
   "source": [
    "train_predict = lr.predict(X_train)\n",
    "val_predict = lr.predict(X_val)\n",
    "test_predict = lr.predict(X_test)"
   ]
  },
  {
   "cell_type": "code",
   "execution_count": null,
   "id": "72e87c27",
   "metadata": {},
   "outputs": [],
   "source": [
    "train_mse = mean_squared_error(y_train, train_predict)\n",
    "val_mse = mean_squared_error(y_val, val_predict)\n",
    "test_mse = mean_squared_error(y_test, test_predict)\n",
    "print(\"MSE for training data\",train_r2)\n",
    "print(\"MSE for validation data\",val_r2)\n",
    "print(\"MSE for Test data\",test_r2)"
   ]
  },
  {
   "cell_type": "code",
   "execution_count": null,
   "id": "56bf33bb",
   "metadata": {},
   "outputs": [],
   "source": [
    "barWidth = 0.50\n",
    "fig = plt.subplots(figsize =(15, 10))\n",
    " \n",
    "plt.bar(list(X.columns), lr.coef_, color ='r', width = barWidth,\n",
    "        edgecolor ='grey', label ='Weight')\n",
    "\n",
    "plt.title('Model Weights after Linear Regression', fontweight ='bold', fontsize = 15)\n",
    "plt.xlabel('Features', fontweight ='bold', fontsize = 15, wrap = True)\n",
    "plt.ylabel('Model Weight', fontweight ='bold', fontsize = 15)\n",
    "plt.xticks([r for r in range(len(X.columns))],\n",
    "        list(X.columns), rotation ='vertical')\n",
    " \n",
    "plt.legend()\n",
    "plt.show()"
   ]
  },
  {
   "cell_type": "code",
   "execution_count": null,
   "id": "1601ad1d",
   "metadata": {},
   "outputs": [],
   "source": [
    "#need hyperparameter tuning\n",
    "dr = DecisionTreeRegressor()\n",
    "dr.fit(X_dev, y_dev)\n",
    "dr_y_predict = dr.predict(X_test)\n",
    "  \n",
    "mean_squared_error(y_test,dr_y_predict)"
   ]
  },
  {
   "cell_type": "code",
   "execution_count": 38,
   "id": "560fe93b",
   "metadata": {},
   "outputs": [
    {
     "data": {
      "text/plain": [
       "0.5249689401887981"
      ]
     },
     "execution_count": 38,
     "metadata": {},
     "output_type": "execute_result"
    }
   ],
   "source": [
    "dr_y_dev_predict= dr.predict(X_dev)\n",
    "mean_squared_error(y_dev,dr_y_dev_predict)"
   ]
  },
  {
   "cell_type": "code",
   "execution_count": null,
   "id": "6d10331c",
   "metadata": {},
   "outputs": [],
   "source": []
  },
  {
   "cell_type": "code",
   "execution_count": null,
   "id": "99219038",
   "metadata": {},
   "outputs": [],
   "source": []
  },
  {
   "cell_type": "code",
   "execution_count": null,
   "id": "e9083ebb",
   "metadata": {},
   "outputs": [],
   "source": [
    "rf = RandomForestRegressor(random_state=42)\n",
    "rf.fit(X_dev, y_dev)\n",
    "rf_y_predict = rf.predict(X_test)\n"
   ]
  },
  {
   "cell_type": "code",
   "execution_count": null,
   "id": "32d05bea",
   "metadata": {},
   "outputs": [],
   "source": [
    "mean_squared_error(y_test,rf_y_predict)"
   ]
  },
  {
   "cell_type": "code",
   "execution_count": null,
   "id": "8577870e",
   "metadata": {},
   "outputs": [],
   "source": [
    "feature_names = X_dev.columns\n",
    "feature_imps = zip(feature_names, rf.feature_importances_)\n",
    "feature_imps=sorted(list(feature_imps), key=lambda x: x[1], reverse=True)\n",
    "feature_imps"
   ]
  },
  {
   "cell_type": "code",
   "execution_count": null,
   "id": "fd1b7796",
   "metadata": {},
   "outputs": [],
   "source": []
  }
 ],
 "metadata": {
  "kernelspec": {
   "display_name": "Python 3 (ipykernel)",
   "language": "python",
   "name": "python3"
  },
  "language_info": {
   "codemirror_mode": {
    "name": "ipython",
    "version": 3
   },
   "file_extension": ".py",
   "mimetype": "text/x-python",
   "name": "python",
   "nbconvert_exporter": "python",
   "pygments_lexer": "ipython3",
   "version": "3.9.7"
  }
 },
 "nbformat": 4,
 "nbformat_minor": 5
}
